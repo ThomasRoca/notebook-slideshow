{
 "cells": [
  {
   "cell_type": "markdown",
   "metadata": {
    "slideshow": {
     "slide_type": "slide"
    }
   },
   "source": [
    "<center><img src='https://www.datactivist.com/img/bits and bites.png' width=\"85%\">\n",
    "<br></center>"
   ]
  },
  {
   "cell_type": "markdown",
   "metadata": {
    "slideshow": {
     "slide_type": "slide"
    }
   },
   "source": [
    "<small><b>June 27th 2018, Microsoft Bits & Bites</b></small>\n",
    "<center>\n",
    "<big><h1>Intro to Datascience: #AI for all... explained</h1></big>\n",
    "\n",
    "<center><img src='https://www.datactivist.com/img/hipstercom.gif' width=\"45%\">\n",
    "<br></center>\n",
    "<b><i>Thomas Roca, PhD, Data Strategist Microsoft / LinkedIn<i></b><br><br>\n",
    "<small>Stay in touch! Twitter: <a href=\"https://twitter.com/Thomas_Roca\" target=\"_blank\">@Thomas Roca</a> || <a href=\"https://www.linkedin.com/in/thomas-roca-43347484/\" target=\"_blank\">LinkedIn</a> || <a href=\"https://github.com/ThomasRoca/DataLiteracyLecture2017\" target=\"_blank\">Github Folder</a></small>"
   ]
  },
  {
   "cell_type": "markdown",
   "metadata": {
    "slideshow": {
     "slide_type": "slide"
    }
   },
   "source": [
    "## Empowering every person and organization to achieve more\n",
    "\n",
    "<center>\n",
    "<img src=\"https://www.datactivist.com/img/disclamer logo2.png\" width=\"60%\">\n",
    "</center>\n"
   ]
  },
  {
   "cell_type": "markdown",
   "metadata": {
    "slideshow": {
     "slide_type": "slide"
    }
   },
   "source": [
    "## \"A data scientist is someone who is better at statistics <br> than any software engineer and better at software engineering than any statistician\" \n",
    "<br>\n",
    "    <center>\n",
    "<img src=\"https://www.datactivist.com/img/aa4b1639d0c1fea9083984979e816935.gif\" width=\"40%\">  "
   ]
  },
  {
   "cell_type": "markdown",
   "metadata": {
    "slideshow": {
     "slide_type": "slide"
    }
   },
   "source": [
    "# Content\n",
    "\n",
    "   1. What is AI: a short reminder\n",
    "   2. Data flows in the information age\n",
    "   3. AI for all: Microsoft framework\n",
    "    "
   ]
  },
  {
   "cell_type": "markdown",
   "metadata": {
    "slideshow": {
     "slide_type": "slide"
    }
   },
   "source": [
    "\n",
    "# What is Intelligence, what is AI ?\n",
    "<br>\n",
    "\n",
    "<center>\n",
    "<img src=\"https://www.datactivist.com/img/1CFAeP1I6qiU-ZMb-O4xyOA.gif\" width=\"40%\">  \n",
    "</center>\n",
    "\n"
   ]
  },
  {
   "cell_type": "markdown",
   "metadata": {
    "slideshow": {
     "slide_type": "slide"
    }
   },
   "source": [
    "# What is human intelligence ?\n",
    "- ability to **learn and understand** (i.e. cognition) and by extension, ability to **make informed decision**\n",
    "\n",
    "# What about AI\n",
    "- AI so far has been focusing on **mastering human capabilities** (Turing):\n",
    "    - **vision, text, language, sentiment, voice recognition and generation, classification and categorization**\n",
    "\n",
    "### but basically **AI is a brut-force way to sort an awful lot of information**\n"
   ]
  },
  {
   "cell_type": "markdown",
   "metadata": {
    "slideshow": {
     "slide_type": "slide"
    }
   },
   "source": [
    "# AI <i>past and future</i>\n",
    "<br>\n",
    "\n",
    "<center>\n",
    "<img src=\"https://www.datactivist.com/img/maluuba pacman MSFT.gif\" width=\"50%\">  \n",
    "</center>\n"
   ]
  },
  {
   "cell_type": "markdown",
   "metadata": {
    "slideshow": {
     "slide_type": "slide"
    }
   },
   "source": [
    "# AI pre-information age\n",
    "\n",
    "<center>\n",
    "<img src=\"https://www.datactivist.com/img/tenor.gif\" width=\"25%\">  \n",
    "</center>\n",
    "<b>Not so smart:</b>\n",
    "- **Procedural** versus \"informational\" algorithmic\n",
    "- the **difference between Chess and Go** (when programmer just cannot embed all possible scenarios if / then)"
   ]
  },
  {
   "cell_type": "markdown",
   "metadata": {
    "slideshow": {
     "slide_type": "slide"
    }
   },
   "source": [
    "\n",
    "# What changed lately with AI, why such enthusiasm ? \n",
    "- **New Algorithms: Deep and reinforcement learning**\n",
    "- **Computing power** and **parallel processing** (+ GPU, FPGA)\n",
    "- (Big) **Data** available... to train those model \n",
    "- An **ubiquitous** & **low latency** (fast) **infrastructure: the cloud**\n",
    "\n",
    "**Results**:\n",
    "- significant **breakthrough** (autonmous car, voice and image recognition)\n",
    "- as Data is now a crucial ingredient, **we need a complete ecosystem**"
   ]
  },
  {
   "cell_type": "markdown",
   "metadata": {
    "slideshow": {
     "slide_type": "slide"
    }
   },
   "source": [
    "\n",
    "# Where are we now? How shiny is shiny?\n",
    "<br>\n",
    "\n",
    "<center>\n",
    "<img src=\"https://www.datactivist.com/img/giphy.gif\" width=\"40%\">  \n",
    "</center>"
   ]
  },
  {
   "cell_type": "markdown",
   "metadata": {
    "slideshow": {
     "slide_type": "slide"
    }
   },
   "source": [
    "\n",
    "- **Making smart decision**: Kinda <br>\n",
    "at least automating complexe tasks and be more efiicient than human at it\n",
    "- **understanding the context**: pretty well when it is not ambiguous<br>\n",
    "a cow in the meadow, ordering a hair cut. Tougher with cows at the beach, irony, etc.\n",
    "\n",
    "\n",
    "### and.. we now have the knoweledge, physical and digital infrastructure to diffuse AI for all\n"
   ]
  },
  {
   "cell_type": "markdown",
   "metadata": {
    "slideshow": {
     "slide_type": "slide"
    }
   },
   "source": [
    "## From AI's algorithms *on your computer* to AI *as a service*\n",
    "\n",
    "\n",
    "<center>\n",
    "\n",
    "<br>  <img src='https://www.datactivist.com/img/TP4-Cloud-Animation.gif' width=\"35%\">\n",
    "</center>\n"
   ]
  },
  {
   "cell_type": "markdown",
   "metadata": {
    "slideshow": {
     "slide_type": "slide"
    }
   },
   "source": [
    "# Let's talk a bit about the infrastructure\n",
    "\n",
    "<center>\n",
    "<img src='https://www.datactivist.com/img/web_animation.gif' width=\"45%\">\n",
    "</center>\n",
    "\n",
    "## ...it is crucial to understand AI for all"
   ]
  },
  {
   "cell_type": "markdown",
   "metadata": {
    "slideshow": {
     "slide_type": "slide"
    }
   },
   "source": [
    "## In the 21st century, (big) data does not flow in spreadsheet\n",
    "- Data travel through networks\n",
    "- Data is stored and processed in the cloud\n",
    "- and consumed on many devices (Cell phone, PC, IoT)\n",
    "\n",
    "\n",
    "<center>\n",
    "<img src=\"https://www.datactivist.com/img/OpenBridge_Animation_3.gif\" width=\"40%\">"
   ]
  },
  {
   "cell_type": "markdown",
   "metadata": {
    "slideshow": {
     "slide_type": "slide"
    }
   },
   "source": [
    "## How does that work?\n",
    "- Data travels in flat text files (csv, json, XLM,..)\n",
    "- Data structure must be standardized and machine readable\n",
    "- Data are made available from machine to machine through API\n",
    "```javascript\n",
    "{ \"authenticationResultCode\": \"ValidCredentials\",\n",
    "  \"copyright\": \"Copyright © 2018 Microsoft and its suppliers.\",\n",
    "  \"coordinates\": [50.8813095092773, 4.47601509094238],\n",
    "  \"name\": \"Zaventem, Belgium\",\n",
    "  \"address\": {\n",
    "    \"locality\": \"Zaventem\",\n",
    "    \"adminDistrict2\": \"Flemish Brabant\",\n",
    "    \"adminDistrict\": \"Flemish Region\",\n",
    "    \"countryRegion\": \"Belgium\" }\n",
    "}```"
   ]
  },
  {
   "cell_type": "markdown",
   "metadata": {
    "slideshow": {
     "slide_type": "skip"
    }
   },
   "source": [
    "## Data life cycle: from collection to dissemination \n",
    "<br>\n",
    "<center><img src='https://www.datactivist.com/img/data-factory-diagram.png' width=\"100%\"></center>"
   ]
  },
  {
   "cell_type": "markdown",
   "metadata": {
    "slideshow": {
     "slide_type": "slide"
    }
   },
   "source": [
    "## Basic example: getting real time pollution data\n",
    "\n",
    "End point of the [API](https://api.data.gov.in/resource/3b01bcb8-0b14-4abf-b6f2-c1bfd384ba69?api-key=579b464db66ec23bdd000001cdd3946e44ce4aad7209ff7b23ac571b&format=json&offset=0&limit=7)"
   ]
  },
  {
   "cell_type": "code",
   "execution_count": 7,
   "metadata": {
    "scrolled": false,
    "slideshow": {
     "slide_type": "-"
    }
   },
   "outputs": [
    {
     "data": {
      "text/html": [
       "<iframe width=\"100%\" height=\"500\" src=\"https://jsfiddle.net/ThomasRoca/bq4avah4/embedded/result,js/\" allowpaymentrequest allowfullscreen=\"allowfullscreen\" frameborder=\"0\"></iframe>"
      ],
      "text/plain": [
       "<IPython.core.display.HTML object>"
      ]
     },
     "execution_count": 7,
     "metadata": {},
     "output_type": "execute_result"
    }
   ],
   "source": [
    "HTML('''<iframe width=\"100%\" height=\"500\" src=\"https://jsfiddle.net/ThomasRoca/bq4avah4/embedded/result,js/\" allowpaymentrequest allowfullscreen=\"allowfullscreen\" frameborder=\"0\"></iframe>''')"
   ]
  },
  {
   "cell_type": "markdown",
   "metadata": {
    "slideshow": {
     "slide_type": "slide"
    }
   },
   "source": [
    "#  How? API: the way to provide data and services\n",
    "\n",
    "<center>\n",
    "<img src=\"http://www.datactivist.com/img/api-gif-8-1.gif\" width=\"50%\">\n",
    "    </center>\n",
    "### What is an API (Application Programming Interface) ?\n",
    "**an intermediate between server & client**"
   ]
  },
  {
   "cell_type": "markdown",
   "metadata": {
    "slideshow": {
     "slide_type": "slide"
    }
   },
   "source": [
    "### Why using an API\n",
    "\n",
    "- Programmatic access = Automate\n",
    "- allows sending request to a DB: Real time, and always up to date\n",
    "- Provide differentiated and controlled (accreditation) access to data\n"
   ]
  },
  {
   "cell_type": "markdown",
   "metadata": {
    "slideshow": {
     "slide_type": "slide"
    }
   },
   "source": [
    "# Then we can build data application or share AI as a service\n",
    "\n",
    "<center><img src=\"http://octodex.github.com/images/heisencat.png\" width=\"300 px\"></center>"
   ]
  },
  {
   "cell_type": "markdown",
   "metadata": {
    "slideshow": {
     "slide_type": "slide"
    }
   },
   "source": [
    "## Machine learning as a service\n",
    "\n",
    "- Nowaday, AI is being made accessible through the cloud\n",
    "- API are used to send data to ML models hosted on a server and retrieve the results\n",
    "\n",
    "    \n",
    "## what to do with it ?\n",
    "- **Deploy already trained AI models into Apps, website, software, IoT**\n",
    "- **The example of azure cognitive services: **\n",
    "https://docs.microsoft.com/en-us/azure/#pivot=products&panel=ai"
   ]
  },
  {
   "cell_type": "markdown",
   "metadata": {
    "slideshow": {
     "slide_type": "slide"
    }
   },
   "source": [
    "## Example of the cognitive services\n",
    "\n",
    "[Link](file:///C:/OneDrivePRO/OneDrive%20-%20Microsoft/Desktop/Cognitive%20services%20AI%20Vision%20demo%20JS/analyze.html)"
   ]
  },
  {
   "cell_type": "markdown",
   "metadata": {
    "slideshow": {
     "slide_type": "slide"
    }
   },
   "source": [
    "# Cloud Computing and AI implementation: Microsoft's framework\n",
    "\n",
    "![](http://blog.binayakinfotech.in/wp-content/uploads/2018/02/FireShot-Pro-Screen-Capture-005-What-is-Azure-%E2%80%94-Microsoft-cloud-service-I-Microsoft-Azure-azure_microsoft_com_en-in_overview_what-is-azure-300x187.png)\n",
    "\n",
    "- [Open Source Library CNTK](https://docs.microsoft.com/en-us/cognitive-toolkit/)\n",
    "- [Hybrid solutions (e.g. custom Vision)](https://customvision.ai/)\n",
    "- [Azure Cognitive Services (AI as a Service)](https://docs.microsoft.com/en-us/azure/cognitive-services/)"
   ]
  },
  {
   "cell_type": "markdown",
   "metadata": {
    "slideshow": {
     "slide_type": "skip"
    }
   },
   "source": [
    "\n",
    "<br>\n",
    "<center>\n",
    "    <h1>AI is already fueling applications</h1>\n",
    "<img src=\"https://www.datactivist.com/img/microsft2.png\" width=\"55%\">\n",
    "</center>\n"
   ]
  },
  {
   "cell_type": "markdown",
   "metadata": {
    "slideshow": {
     "slide_type": "skip"
    }
   },
   "source": [
    "###### A citizen in the 21st century must be digital or data literate. \n",
    "<br>\n",
    "<center>\n",
    "    <b>Microsoft AI school</b>\n",
    "<img src=\"https://www.datactivist.com/img/AIschool.png\" width=\"55%\">\n",
    "</center>\n",
    "\n",
    "\n",
    "**“Well informed, people are citizens; ill informed, they become subjects”** - Alfred Sauvy"
   ]
  },
  {
   "cell_type": "markdown",
   "metadata": {
    "slideshow": {
     "slide_type": "slide"
    }
   },
   "source": [
    "# Using AI for text classification, the LinkedIn example\n",
    "<br>\n",
    "<center><img src='https://dynamicimagesfr-v2b.netdna-ssl.com/product/fr_1395.jpg' width=\"65%\">\n",
    "<br></center>\n",
    "\n",
    "[Notebook](http://localhost:8888/notebooks/Machine%20learning/LinkedIn%20profile%20Text%20Classifier%20to%20present.ipynb#/slide-0-0)"
   ]
  },
  {
   "cell_type": "markdown",
   "metadata": {
    "slideshow": {
     "slide_type": "slide"
    }
   },
   "source": [
    "<center>\n",
    "    <h1> Thanks! </h1>\n",
    "\n",
    "<img src=\"https://www.datactivist.com/img/yeswecode.png\" width=\"25%\">\n",
    "<h1>Q&A time</h1>\n",
    "</center>\n"
   ]
  },
  {
   "cell_type": "code",
   "execution_count": 2,
   "metadata": {
    "slideshow": {
     "slide_type": "skip"
    }
   },
   "outputs": [
    {
     "data": {
      "text/html": [
       "<script>\n",
       "code_show=true; \n",
       "function code_toggle() {\n",
       " if (code_show){\n",
       " $('div.input').hide();\n",
       " } else {\n",
       " $('div.input').show();\n",
       " }\n",
       " code_show = !code_show\n",
       "} \n",
       "$( document ).ready(code_toggle);\n",
       "</script>\n",
       "The raw code for this IPython notebook is by default hidden for easier reading.\n",
       "To toggle on/off the raw code, click <a href=\"javascript:code_toggle()\">here</a>."
      ],
      "text/plain": [
       "<IPython.core.display.HTML object>"
      ]
     },
     "execution_count": 2,
     "metadata": {},
     "output_type": "execute_result"
    }
   ],
   "source": [
    "from IPython.display import HTML\n",
    "from IPython.display import IFrame\n",
    "HTML('''<script>\n",
    "code_show=true; \n",
    "function code_toggle() {\n",
    " if (code_show){\n",
    " $('div.input').hide();\n",
    " } else {\n",
    " $('div.input').show();\n",
    " }\n",
    " code_show = !code_show\n",
    "} \n",
    "$( document ).ready(code_toggle);\n",
    "</script>\n",
    "The raw code for this IPython notebook is by default hidden for easier reading.\n",
    "To toggle on/off the raw code, click <a href=\"javascript:code_toggle()\">here</a>.''')"
   ]
  },
  {
   "cell_type": "code",
   "execution_count": null,
   "metadata": {
    "slideshow": {
     "slide_type": "skip"
    }
   },
   "outputs": [],
   "source": []
  }
 ],
 "metadata": {
  "celltoolbar": "Slideshow",
  "kernelspec": {
   "display_name": "Python 3",
   "language": "python",
   "name": "python3"
  },
  "language_info": {
   "codemirror_mode": {
    "name": "ipython",
    "version": 3
   },
   "file_extension": ".py",
   "mimetype": "text/x-python",
   "name": "python",
   "nbconvert_exporter": "python",
   "pygments_lexer": "ipython3",
   "version": "3.4.4"
  }
 },
 "nbformat": 4,
 "nbformat_minor": 2
}
